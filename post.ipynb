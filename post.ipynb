{
 "cells": [
  {
   "cell_type": "markdown",
   "id": "49bce18a",
   "metadata": {},
   "source": [
    "A problem I have run into frequently in astronomical data analysis is the need to infer parameters of a density model where some aspects of the model are allowed to be flexible and other components are held more rigid. In these contexts, we are also sometimes interested in learning a flexible representation for the density of sources itself. This post demonstrates how to implement models with flexibility controlled by spline interpolation of function values in [JAX](https://jax.readthedocs.io/en/latest/).\n",
    "\n",
    "One example of the need for flexibility in density modeling is the classic Galactic astronomy problem of measuring the vertical stellar density profile (and midplane density) of the Galactic disk: In this problem, we start with observations of stellar positions ($x, y, z$) (probably observed under some selection function) and we want to infer the midplane density value and a model for the density profile away from the midplane. Historically, simple, parametric density profiles have been used (e.g., [Bovy et al. 2017](https://ui.adsabs.harvard.edu/abs/2017MNRAS.470.1360B/abstract)), but we now know that there are significant asymmetries in the density of stars (e.g., [Bennett et al. 2019](https://ui.adsabs.harvard.edu/abs/2019MNRAS.482.1417B/abstract)), and so we might now want to fit a parametric density profile plus a model component to handle this asymmetry.\n",
    "\n",
    "Another problem where the need to fit models with parametric and flexible components arises is in modeling the phase-space density of stellar streams (e.g., [Koposov et al. 2019](https://ui.adsabs.harvard.edu/abs/2019MNRAS.485.4726K/abstract), [Tavangar et al. 2022](https://ui.adsabs.harvard.edu/abs/2022ApJ...925..118T/abstract)). In the case of stellar streams, we generally want to simultaneously fit the \"track\" or ridgeline of the stream in position and velocity components, the width of the stream, the density along the stream, and a flexible model for the background stellar density in these components.\n",
    "\n",
    "There are many possible options for adding flexibility to models (see: Machine Learning). One particularly useful tool that is used heavily in time series analysis are [Gaussian processes](https://en.wikipedia.org/wiki/Gaussian_process) (GPs). GPs allow adding controlled flexibility in probabilistic models (i.e. weakly parametric, through specification of a kernel function) and have gained popularity in astronomy recently thanks to advances in computational efficiency in computing GP likelihoods (e.g., [celerite](https://github.com/exoplanet-dev/celerite2) or [tinygp](https://github.com/dfm/tinygp)). I won't go over GPs in this post, but there are many resources available online and on GitHub that give great introductions to GPs (e.g., [Dan Foreman-Mackey's slides](https://speakerdeck.com/dfm/an-astronomers-introduction-to-gaussian-processes-v2) or [Rodrigo Luger's tutorial](https://github.com/LSSTC-DSFP/LSSTC-DSFP-Sessions/blob/main/Sessions/Session13/Day2/answers/01-Introduction-to-GPs.ipynb)).\n",
    "\n",
    "In this post, we will use another frequently-used tool for specifying flexible models: [cubic splines](https://en.wikipedia.org/wiki/Spline_(mathematics))."
   ]
  },
  {
   "cell_type": "code",
   "execution_count": null,
   "id": "88dbda21",
   "metadata": {},
   "outputs": [],
   "source": [
    "# Some global imports we will need throughout this post:\n",
    "import astropy.units as u\n",
    "import matplotlib as mpl\n",
    "import matplotlib.pyplot as plt\n",
    "\n",
    "%matplotlib inline\n",
    "import numpy as np"
   ]
  },
  {
   "cell_type": "markdown",
   "id": "bdbc251c",
   "metadata": {},
   "source": [
    "# Spline models\n",
    "\n",
    "A spline function is fully determined by the degree of the polynomial used, the location of $M$ \"knots\" $x_m$, and the function value at the knots $f_m$. A common choice for the polynomial degree is 3, or cubic splines. "
   ]
  },
  {
   "cell_type": "code",
   "execution_count": null,
   "id": "2e12c4ce",
   "metadata": {},
   "outputs": [],
   "source": [
    "from scipy.interpolate import InterpolatedUnivariateSpline"
   ]
  },
  {
   "cell_type": "code",
   "execution_count": null,
   "id": "8a48af9d",
   "metadata": {},
   "outputs": [],
   "source": [
    "rng = np.random.default_rng(seed=42)\n",
    "\n",
    "M = 8\n",
    "x_m = np.linspace(0, 10, M)\n",
    "f_m = rng.uniform(-1, 1, M)\n",
    "spl = InterpolatedUnivariateSpline(x_m, f_m, k=3)  # k = the polynomial degree"
   ]
  },
  {
   "cell_type": "code",
   "execution_count": null,
   "id": "b3f35a29",
   "metadata": {},
   "outputs": [],
   "source": [
    "plt.scatter(x_m, f_m)\n",
    "\n",
    "grid = np.linspace(-1, 11, 1024)\n",
    "plt.plot(grid, spl(grid), marker=\"\", linestyle=\"-\", color=\"tab:blue\", zorder=-10)\n",
    "\n",
    "plt.annotate(\n",
    "    \"knots\",\n",
    "    xy=(x_m[0], f_m[0]),\n",
    "    xytext=(2, 2),\n",
    "    arrowprops=dict(color=\"#666\", shrinkB=4, arrowstyle=\"->\"),\n",
    "    ha=\"center\",\n",
    ")\n",
    "for m in range(1, 3):\n",
    "    plt.annotate(\n",
    "        \"     \",\n",
    "        xy=(x_m[m], f_m[m]),\n",
    "        xytext=(2, 2),\n",
    "        arrowprops=dict(color=\"#666\", shrinkB=4, arrowstyle=\"->\"),\n",
    "        ha=\"center\",\n",
    "    )\n",
    "\n",
    "plt.xlabel(\"$x$\")\n",
    "plt.ylabel(\"$f$\")"
   ]
  },
  {
   "cell_type": "markdown",
   "id": "b9cf2bd7",
   "metadata": {},
   "source": [
    "The task of finding a spline representation of a function given samples or points is sometimes called \"spline regression.\" The problem is straightforward if we pick and fix locations for the knots of the spline function we want to fit and then add into our model the values of the function at the locations of the knots. This type of model has the advantage that the (spatial) scale of flexibility or \"degrees of freedom\" is controllable by setting the number of knots. However, unlike in GPs where kernel functions can be used to parametrize the amplitude or spatial scales of your problem, these things are not explicitly controlled in a spline model. One other disadvantage of a spline model is that the number of parameters in your model grows as you increase the number of knots (i.e. the degrees of freedom) of the model -- this can make spline models intractable in some simple optimization routines (e.g., using `scipy.minimize` without gradient information) or in some Markov Chain Monte Carlo (MCMC) methods that do not use gradient information (e.g., Metropolis-Hastings or [`emcee`](https://emcee.readthedocs.io/en/stable/)).\n",
    "\n",
    "Fortunately, it is possible to use spline models with [JAX](https://jax.readthedocs.io/), which automatically gives us access to functional gradients and therefore opens up the possibility of using optimization and sampling methods that perform well with large numbers of parameters. Below are two examples that demonstrate how to implement spline components in density models using JAX, to optimize the parameters of the models with [`jaxopt`](https://jaxopt.github.io/), and to generate posterior samples using Hamiltonian Monte Carlo with [`blackjax`](https://blackjax-devs.github.io/blackjax/)."
   ]
  },
  {
   "cell_type": "markdown",
   "id": "e0a518b4",
   "metadata": {},
   "source": [
    "# Example: The (vertical) density profile in the Solar Neighborhood\n"
   ]
  },
  {
   "cell_type": "code",
   "execution_count": null,
   "id": "041ef1c4",
   "metadata": {},
   "outputs": [],
   "source": []
  },
  {
   "cell_type": "code",
   "execution_count": null,
   "id": "4ef4f287",
   "metadata": {},
   "outputs": [],
   "source": []
  },
  {
   "cell_type": "code",
   "execution_count": null,
   "id": "0524ca4e",
   "metadata": {},
   "outputs": [],
   "source": [
    "from scipy.stats import binned_statistic\n",
    "\n",
    "import jax\n",
    "import jax.numpy as jnp\n",
    "from jax_cosmo.scipy.interpolate import InterpolatedUnivariateSpline\n",
    "from jaxopt import ScipyMinimize\n",
    "import blackjax"
   ]
  },
  {
   "cell_type": "code",
   "execution_count": null,
   "id": "32da7b31",
   "metadata": {},
   "outputs": [],
   "source": []
  },
  {
   "cell_type": "code",
   "execution_count": null,
   "id": "a8a5aa95",
   "metadata": {},
   "outputs": [],
   "source": []
  },
  {
   "cell_type": "code",
   "execution_count": null,
   "id": "a57a6bfd",
   "metadata": {},
   "outputs": [],
   "source": []
  },
  {
   "cell_type": "code",
   "execution_count": null,
   "id": "419149f2",
   "metadata": {},
   "outputs": [],
   "source": []
  },
  {
   "cell_type": "code",
   "execution_count": null,
   "id": "b076cc91",
   "metadata": {},
   "outputs": [],
   "source": []
  },
  {
   "cell_type": "markdown",
   "id": "d5cfcbb2",
   "metadata": {},
   "source": [
    "Make some fake data:"
   ]
  },
  {
   "cell_type": "code",
   "execution_count": null,
   "id": "83c16aac",
   "metadata": {},
   "outputs": [],
   "source": [
    "N = 1024\n",
    "window = (-20, 20)\n",
    "rng = np.random.default_rng(42)\n",
    "# phi1_data = rng.uniform(0, 10, size=1024)\n",
    "phi1_data = rng.normal(5, 4, size=1024)\n",
    "assert np.all((phi1_data < window[1]) & (phi1_data > window[0]))\n",
    "\n",
    "phi2_data = rng.normal(1.5 * np.cos(2 * np.pi * phi1_data / 5), 0.8)\n",
    "plt.figure(figsize=(10, 3))\n",
    "plt.scatter(phi1_data, phi2_data)"
   ]
  },
  {
   "cell_type": "code",
   "execution_count": null,
   "id": "0f99f2fa",
   "metadata": {},
   "outputs": [],
   "source": [
    "@jax.jit\n",
    "def jln_normal(x, mu, var):\n",
    "    return -0.5 * (jnp.log(2 * np.pi * var) + (x - mu) ** 2 / var)\n",
    "\n",
    "\n",
    "@jax.jit\n",
    "def phi2_ln_likelihood(\n",
    "    phi2_mean_knots,\n",
    "    phi2_mean_vals,\n",
    "    phi2_std_knots,\n",
    "    phi2_std_vals,\n",
    "    phi1_eval,\n",
    "    phi2_eval,\n",
    "):\n",
    "\n",
    "    phi2_mean = InterpolatedUnivariateSpline(phi2_mean_knots, phi2_mean_vals, k=3)\n",
    "\n",
    "    phi2_std = InterpolatedUnivariateSpline(phi2_std_knots, phi2_std_vals, k=3)\n",
    "\n",
    "    phi2_mean_model = phi2_mean(phi1_eval)\n",
    "    phi2_var_model = phi2_std(phi1_eval) ** 2\n",
    "\n",
    "    # phi2_mean_model = jnp.interp(phi1_eval, phi2_mean_knots, phi2_mean_vals)\n",
    "    # phi2_var_model = jnp.interp(phi1_eval, phi2_std_knots, phi2_std_vals) ** 2\n",
    "\n",
    "    return jln_normal(phi2_eval, phi2_mean_model, phi2_var_model)"
   ]
  },
  {
   "cell_type": "code",
   "execution_count": null,
   "id": "a7a403d6",
   "metadata": {},
   "outputs": [],
   "source": [
    "phi2_knots = np.linspace(phi1_data.min(), phi1_data.max(), 25)\n",
    "\n",
    "dp2 = phi2_knots[1] - phi2_knots[0]\n",
    "_bins = np.linspace(\n",
    "    phi2_knots[0] - dp2 / 2, phi2_knots[-1] + dp2 / 2, len(phi2_knots) + 1\n",
    ")\n",
    "stat = binned_statistic(phi1_data, phi2_data, bins=_bins, statistic=np.nanmean)\n",
    "phi2_vals = stat.statistic\n",
    "phi2_vals[np.isnan(phi2_vals)] = 0.0"
   ]
  },
  {
   "cell_type": "code",
   "execution_count": null,
   "id": "3f22e1a2",
   "metadata": {},
   "outputs": [],
   "source": [
    "plt.figure(figsize=(10, 3))\n",
    "plt.scatter(phi1_data, phi2_data)\n",
    "plt.scatter(phi2_knots, phi2_vals, color=\"tab:red\")"
   ]
  },
  {
   "cell_type": "code",
   "execution_count": null,
   "id": "13763f2b",
   "metadata": {},
   "outputs": [],
   "source": [
    "phi2_ln_likelihood(\n",
    "    phi2_knots,\n",
    "    phi2_vals,\n",
    "    phi2_knots,\n",
    "    np.full_like(phi2_knots, 0.4),\n",
    "    phi1_data,\n",
    "    phi2_data,\n",
    ")"
   ]
  },
  {
   "cell_type": "code",
   "execution_count": null,
   "id": "3c983258",
   "metadata": {},
   "outputs": [],
   "source": [
    "xx, yy = np.meshgrid(\n",
    "    np.linspace(phi1_data.min(), phi1_data.max(), 256), np.linspace(-4, 4, 128)\n",
    ")\n",
    "zz = phi2_ln_likelihood(\n",
    "    phi2_knots, phi2_vals, phi2_knots, np.full_like(phi2_knots, 0.4), xx, yy\n",
    ")\n",
    "plt.figure(figsize=(10, 3))\n",
    "plt.pcolormesh(xx, yy, np.exp(zz), shading=\"auto\")\n",
    "plt.scatter(phi1_data, phi2_data, color=\"tab:blue\")"
   ]
  },
  {
   "cell_type": "code",
   "execution_count": null,
   "id": "261f7a6b",
   "metadata": {},
   "outputs": [],
   "source": [
    "@jax.jit\n",
    "def ln_prob(pars, data, phi2_knots):\n",
    "    n_phi2 = len(phi2_knots)\n",
    "    phi2_means = pars[:n_phi2]\n",
    "    ln_phi2_stds = pars[n_phi2 : 2 * n_phi2]\n",
    "    phi2_stds = jnp.exp(ln_phi2_stds)\n",
    "\n",
    "    ll = phi2_ln_likelihood(\n",
    "        phi2_knots, phi2_means, phi2_knots, phi2_stds, data[\"phi1\"], data[\"phi2\"]\n",
    "    ).sum()\n",
    "\n",
    "    lp = jln_normal(phi2_means, 0, 2.0).sum()\n",
    "    lp += jln_normal(ln_phi2_stds, -1, 1.0).sum()\n",
    "\n",
    "    return ll + lp\n",
    "\n",
    "\n",
    "@jax.jit\n",
    "def objective(pars, data, phi2_knots):\n",
    "    return -ln_prob(pars, data, phi2_knots)"
   ]
  },
  {
   "cell_type": "code",
   "execution_count": null,
   "id": "a6b83ab4",
   "metadata": {},
   "outputs": [],
   "source": [
    "init_params = np.concatenate((phi2_vals, np.log(np.full_like(phi2_knots, 0.4))))\n",
    "data = {\"phi1\": phi1_data, \"phi2\": phi2_data}"
   ]
  },
  {
   "cell_type": "code",
   "execution_count": null,
   "id": "6c056e4e",
   "metadata": {},
   "outputs": [],
   "source": [
    "solver = ScipyMinimize(method=\"l-bfgs-b\", fun=objective)\n",
    "res = solver.run(init_params, data=data, phi2_knots=phi2_knots)\n",
    "res.state.iter_num"
   ]
  },
  {
   "cell_type": "code",
   "execution_count": null,
   "id": "b56a7ef7",
   "metadata": {},
   "outputs": [],
   "source": [
    "res.params"
   ]
  },
  {
   "cell_type": "code",
   "execution_count": null,
   "id": "52bbf89a",
   "metadata": {},
   "outputs": [],
   "source": [
    "plt.figure(figsize=(10, 3))\n",
    "plt.plot(phi2_knots, res.params[: len(phi2_knots)])\n",
    "plt.plot(phi2_knots, res.params[len(phi2_knots) :], color=\"tab:red\")\n",
    "plt.scatter(phi1_data, phi2_data, color=\"tab:blue\", s=2)"
   ]
  },
  {
   "cell_type": "code",
   "execution_count": null,
   "id": "62dfed76",
   "metadata": {},
   "outputs": [],
   "source": [
    "xx, yy = np.meshgrid(\n",
    "    np.linspace(phi1_data.min(), phi1_data.max(), 256), np.linspace(-4, 4, 128)\n",
    ")\n",
    "zz = np.exp(\n",
    "    phi2_ln_likelihood(\n",
    "        phi2_knots,\n",
    "        res.params[: len(phi2_knots)],\n",
    "        phi2_knots,\n",
    "        np.exp(res.params[len(phi2_knots) :]),\n",
    "        xx,\n",
    "        yy,\n",
    "    )\n",
    ")\n",
    "plt.figure(figsize=(10, 3))\n",
    "plt.pcolormesh(\n",
    "    xx,\n",
    "    yy,\n",
    "    zz,\n",
    "    shading=\"auto\",\n",
    "    vmin=np.median(zz[(xx > 0) & (xx < 5)]),\n",
    "    vmax=np.max(zz[(xx > 0) & (xx < 5)]),\n",
    ")\n",
    "plt.scatter(phi1_data, phi2_data, color=\"tab:blue\", s=2)"
   ]
  },
  {
   "cell_type": "markdown",
   "id": "a1db3974",
   "metadata": {},
   "source": [
    "Copied from the `blackjax` getting started:"
   ]
  },
  {
   "cell_type": "code",
   "execution_count": null,
   "id": "a68e52d8",
   "metadata": {},
   "outputs": [],
   "source": [
    "def inference_loop(rng_key, kernel, initial_state, num_samples):\n",
    "    @jax.jit\n",
    "    def one_step(state, rng_key):\n",
    "        state, _ = kernel(rng_key, state)\n",
    "        return state, state\n",
    "\n",
    "    keys = jax.random.split(rng_key, num_samples)\n",
    "    _, states = jax.lax.scan(one_step, initial_state, keys)\n",
    "\n",
    "    return states"
   ]
  },
  {
   "cell_type": "code",
   "execution_count": null,
   "id": "0a97c618",
   "metadata": {},
   "outputs": [],
   "source": [
    "rng_key = jax.random.PRNGKey(42)"
   ]
  },
  {
   "cell_type": "code",
   "execution_count": null,
   "id": "5aabe20c",
   "metadata": {},
   "outputs": [],
   "source": [
    "fn = jax.tree_util.Partial(ln_prob, data=data, phi2_knots=phi2_knots)\n",
    "warmup = blackjax.window_adaptation(\n",
    "    blackjax.nuts,\n",
    "    fn,\n",
    "    1000,\n",
    ")\n",
    "\n",
    "state, kernel, _ = warmup.run(\n",
    "    rng_key,\n",
    "    res.params,\n",
    ")"
   ]
  },
  {
   "cell_type": "code",
   "execution_count": null,
   "id": "8b1b124f",
   "metadata": {},
   "outputs": [],
   "source": [
    "states = inference_loop(rng_key, kernel, state, 1_000)"
   ]
  },
  {
   "cell_type": "code",
   "execution_count": null,
   "id": "3f246d81",
   "metadata": {},
   "outputs": [],
   "source": [
    "states.position.shape"
   ]
  },
  {
   "cell_type": "code",
   "execution_count": null,
   "id": "1c18e55c",
   "metadata": {},
   "outputs": [],
   "source": [
    "plt.figure(figsize=(10, 3))\n",
    "for i in np.random.choice(states.position.shape[0], size=32):\n",
    "    params = states.position[i]\n",
    "    plt.plot(phi2_knots, params[: len(phi2_knots)])"
   ]
  },
  {
   "cell_type": "code",
   "execution_count": null,
   "id": "d1103f95",
   "metadata": {},
   "outputs": [],
   "source": [
    "plt.figure(figsize=(10, 3))\n",
    "for i in np.random.choice(states.position.shape[0], size=32):\n",
    "    params = states.position[i]\n",
    "    plt.plot(phi2_knots, params[len(phi2_knots) :])"
   ]
  },
  {
   "cell_type": "markdown",
   "id": "f5dd552a",
   "metadata": {},
   "source": [
    "---\n",
    "\n",
    "### Infer log-density as well:\n",
    "\n",
    "Inhomogeneous poisson point process: http://people.ee.duke.edu/~lcarin/PoissonProcess.pdf"
   ]
  },
  {
   "cell_type": "code",
   "execution_count": null,
   "id": "e75802d7",
   "metadata": {},
   "outputs": [],
   "source": [
    "def ln_simpson(ln_y, x, dtype=None):\n",
    "    \"\"\"Evaluates definite integral using Simpson's 1/3 rule\"\"\"\n",
    "\n",
    "    dx = jnp.diff(x)[0]\n",
    "    num_points = len(x)\n",
    "    if num_points // 2 == num_points / 2:\n",
    "        raise ValueError(\"oopsies\")\n",
    "\n",
    "    weights_first = jnp.asarray([1.0], dtype=dtype)\n",
    "    weights_mid = jnp.tile(\n",
    "        jnp.asarray([4.0, 2.0], dtype=dtype), [(num_points - 3) // 2]\n",
    "    )\n",
    "    weights_last = jnp.asarray([4.0, 1.0], dtype=dtype)\n",
    "    weights = jnp.concatenate([weights_first, weights_mid, weights_last], axis=0)\n",
    "\n",
    "    return jax.scipy.special.logsumexp(ln_y + jnp.log(weights), axis=-1) + jnp.log(\n",
    "        dx / 3\n",
    "    )"
   ]
  },
  {
   "cell_type": "code",
   "execution_count": null,
   "id": "10795c92",
   "metadata": {},
   "outputs": [],
   "source": [
    "@jax.jit\n",
    "def phi1_ln_likelihood(phi1_knots, ln_phi1_rate, phi1_eval):\n",
    "    ln_phi1_rate_spl = InterpolatedUnivariateSpline(phi1_knots, ln_phi1_rate, k=3)\n",
    "\n",
    "    # V = phi1_rate_spl.integral(*window)\n",
    "    _grid = jnp.linspace(*window, 1025)\n",
    "    lnV = ln_simpson(ln_phi1_rate_spl(_grid), _grid)\n",
    "\n",
    "    return -jnp.exp(lnV) / len(phi1_eval) + ln_phi1_rate_spl(phi1_eval)"
   ]
  },
  {
   "cell_type": "code",
   "execution_count": null,
   "id": "14c6e07f",
   "metadata": {},
   "outputs": [],
   "source": [
    "@jax.jit\n",
    "def ln_prob2(pars, data, phi2_knots):\n",
    "    n_phi2 = len(phi2_knots)\n",
    "    phi2_means = pars[:n_phi2]\n",
    "    ln_phi2_stds = pars[n_phi2 : 2 * n_phi2]\n",
    "    phi2_stds = jnp.exp(ln_phi2_stds)\n",
    "\n",
    "    phi1_rate = pars[2 * n_phi2 : 3 * n_phi2]\n",
    "\n",
    "    ll = phi2_ln_likelihood(\n",
    "        phi2_knots, phi2_means, phi2_knots, phi2_stds, data[\"phi1\"], data[\"phi2\"]\n",
    "    ).sum()\n",
    "\n",
    "    ll2 = phi1_ln_likelihood(\n",
    "        phi2_knots,\n",
    "        phi1_rate,\n",
    "        data[\"phi1\"],\n",
    "    ).sum()\n",
    "\n",
    "    lp = jln_normal(phi2_means, 0, 2.0).sum()\n",
    "    lp += jln_normal(ln_phi2_stds, -1, 1.0).sum()\n",
    "\n",
    "    return ll + ll2 + lp\n",
    "\n",
    "\n",
    "@jax.jit\n",
    "def objective2(pars, data, phi2_knots):\n",
    "    return -ln_prob2(pars, data, phi2_knots)"
   ]
  },
  {
   "cell_type": "code",
   "execution_count": null,
   "id": "7a54e74b",
   "metadata": {},
   "outputs": [],
   "source": [
    "H, xe = np.histogram(data[\"phi1\"], bins=np.linspace(*window, 32))\n",
    "xc = 0.5 * (xe[:-1] + xe[1:])\n",
    "H = np.log((H + 1e-4) / (window[1] - window[0]))\n",
    "init_rate = InterpolatedUnivariateSpline(xc, H, k=3)(phi2_knots)"
   ]
  },
  {
   "cell_type": "code",
   "execution_count": null,
   "id": "f9bf1e58",
   "metadata": {},
   "outputs": [],
   "source": [
    "init_params = np.concatenate(\n",
    "    (phi2_vals, np.log(np.full_like(phi2_knots, 0.4)), init_rate)\n",
    ")\n",
    "data = {\"phi1\": phi1_data, \"phi2\": phi2_data}"
   ]
  },
  {
   "cell_type": "code",
   "execution_count": null,
   "id": "4a78020d",
   "metadata": {},
   "outputs": [],
   "source": [
    "solver = ScipyMinimize(method=\"l-bfgs-b\", fun=objective2)\n",
    "res = solver.run(init_params, data=data, phi2_knots=phi2_knots)\n",
    "res.state.iter_num, res.params"
   ]
  },
  {
   "cell_type": "code",
   "execution_count": null,
   "id": "3d30d838",
   "metadata": {},
   "outputs": [],
   "source": [
    "plt.figure(figsize=(10, 3))\n",
    "plt.plot(phi2_knots, res.params[: len(phi2_knots)])\n",
    "plt.plot(phi2_knots, res.params[len(phi2_knots) : 2 * len(phi2_knots)], color=\"tab:red\")\n",
    "plt.plot(phi2_knots, res.params[2 * len(phi2_knots) :], color=\"tab:green\")\n",
    "plt.scatter(phi1_data, phi2_data, color=\"tab:blue\", s=2)"
   ]
  },
  {
   "cell_type": "code",
   "execution_count": null,
   "id": "81ca34dc",
   "metadata": {},
   "outputs": [],
   "source": [
    "xx, yy = np.meshgrid(\n",
    "    np.linspace(phi1_data.min(), phi1_data.max(), 256), np.linspace(-4, 4, 128)\n",
    ")\n",
    "zz = np.exp(\n",
    "    phi2_ln_likelihood(\n",
    "        phi2_knots,\n",
    "        res.params[: len(phi2_knots)],\n",
    "        phi2_knots,\n",
    "        np.exp(res.params[len(phi2_knots) : 2 * len(phi2_knots)]),\n",
    "        xx,\n",
    "        yy,\n",
    "    )\n",
    "    + phi1_ln_likelihood(\n",
    "        phi2_knots, res.params[2 * len(phi2_knots) : 3 * len(phi2_knots)], xx\n",
    "    )\n",
    ")\n",
    "\n",
    "plt.figure(figsize=(10, 3))\n",
    "plt.pcolormesh(\n",
    "    xx,\n",
    "    yy,\n",
    "    zz,\n",
    "    shading=\"auto\",\n",
    "    vmin=np.median(zz[(xx > 0) & (xx < 5)]),\n",
    "    vmax=np.max(zz[(xx > 0) & (xx < 5)]),\n",
    ")\n",
    "# plt.scatter(phi1_data, phi2_data, color='tab:blue', s=2)"
   ]
  },
  {
   "cell_type": "code",
   "execution_count": null,
   "id": "033f7817",
   "metadata": {},
   "outputs": [],
   "source": [
    "rng_key = jax.random.PRNGKey(42)"
   ]
  },
  {
   "cell_type": "code",
   "execution_count": null,
   "id": "dd135d94",
   "metadata": {},
   "outputs": [],
   "source": [
    "fn = jax.tree_util.Partial(ln_prob2, data=data, phi2_knots=phi2_knots)\n",
    "warmup = blackjax.window_adaptation(\n",
    "    blackjax.nuts,\n",
    "    fn,\n",
    "    1000,\n",
    ")\n",
    "\n",
    "state, kernel, _ = warmup.run(\n",
    "    rng_key,\n",
    "    res.params,\n",
    ")"
   ]
  },
  {
   "cell_type": "code",
   "execution_count": null,
   "id": "96caa991",
   "metadata": {},
   "outputs": [],
   "source": [
    "states = inference_loop(rng_key, kernel, state, 1_000)"
   ]
  },
  {
   "cell_type": "code",
   "execution_count": null,
   "id": "1e71fc93",
   "metadata": {},
   "outputs": [],
   "source": [
    "plt.figure(figsize=(10, 3))\n",
    "for i in np.random.choice(states.position.shape[0], size=32):\n",
    "    params = states.position[i]\n",
    "    plt.plot(phi2_knots, params[: len(phi2_knots)])"
   ]
  },
  {
   "cell_type": "code",
   "execution_count": null,
   "id": "0114bf9a",
   "metadata": {},
   "outputs": [],
   "source": [
    "plt.figure(figsize=(10, 3))\n",
    "for i in np.random.choice(states.position.shape[0], size=32):\n",
    "    params = states.position[i]\n",
    "    plt.plot(phi2_knots, params[len(phi2_knots) : 2 * len(phi2_knots)])"
   ]
  },
  {
   "cell_type": "code",
   "execution_count": null,
   "id": "35f88aea",
   "metadata": {},
   "outputs": [],
   "source": [
    "plt.figure(figsize=(10, 3))\n",
    "for i in np.random.choice(states.position.shape[0], size=32):\n",
    "    params = states.position[i]\n",
    "    plt.plot(phi2_knots, params[2 * len(phi2_knots) : 3 * len(phi2_knots)])"
   ]
  },
  {
   "cell_type": "code",
   "execution_count": null,
   "id": "7c4eaa8f",
   "metadata": {},
   "outputs": [],
   "source": [
    "xx, yy = np.meshgrid(\n",
    "    np.linspace(phi1_data.min(), phi1_data.max(), 256), np.linspace(-4, 4, 128)\n",
    ")\n",
    "\n",
    "for i in np.random.choice(states.position.shape[0], size=8):\n",
    "    params = states.position[i]\n",
    "    zz = np.exp(\n",
    "        phi2_ln_likelihood(\n",
    "            phi2_knots,\n",
    "            params[: len(phi2_knots)],\n",
    "            phi2_knots,\n",
    "            np.exp(params[len(phi2_knots) : 2 * len(phi2_knots)]),\n",
    "            xx,\n",
    "            yy,\n",
    "        )\n",
    "        + phi1_ln_likelihood(\n",
    "            phi2_knots, params[2 * len(phi2_knots) : 3 * len(phi2_knots)], xx\n",
    "        )\n",
    "    )\n",
    "\n",
    "    plt.figure(figsize=(10, 3))\n",
    "    plt.pcolormesh(\n",
    "        xx,\n",
    "        yy,\n",
    "        zz,\n",
    "        shading=\"auto\",\n",
    "        vmin=np.median(zz[(xx > 0) & (xx < 5)]),\n",
    "        vmax=np.max(zz[(xx > 0) & (xx < 5)]),\n",
    "    )"
   ]
  },
  {
   "cell_type": "code",
   "execution_count": null,
   "id": "c1545d4c",
   "metadata": {},
   "outputs": [],
   "source": []
  }
 ],
 "metadata": {
  "kernelspec": {
   "display_name": "Python [conda env:root] *",
   "language": "python",
   "name": "conda-root-py"
  },
  "language_info": {
   "codemirror_mode": {
    "name": "ipython",
    "version": 3
   },
   "file_extension": ".py",
   "mimetype": "text/x-python",
   "name": "python",
   "nbconvert_exporter": "python",
   "pygments_lexer": "ipython3",
   "version": "3.10.4"
  },
  "toc": {
   "base_numbering": 1,
   "nav_menu": {},
   "number_sections": true,
   "sideBar": true,
   "skip_h1_title": false,
   "title_cell": "Table of Contents",
   "title_sidebar": "Contents",
   "toc_cell": false,
   "toc_position": {},
   "toc_section_display": true,
   "toc_window_display": false
  }
 },
 "nbformat": 4,
 "nbformat_minor": 5
}
